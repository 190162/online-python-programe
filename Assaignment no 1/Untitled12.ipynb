{
 "cells": [
  {
   "cell_type": "code",
   "execution_count": 12,
   "id": "6b3759cc",
   "metadata": {},
   "outputs": [
    {
     "name": "stdout",
     "output_type": "stream",
     "text": [
      "your marks are: z\n",
      "144\n",
      "sorry u are fail\n"
     ]
    }
   ],
   "source": [
    "eng = 50\n",
    "phy = 34\n",
    "chem = 60  \n",
    "\n",
    "z = (eng + phy + chem );\n",
    "print (\"your marks are:\",\"z\");\n",
    "print (z);\n",
    "if z > 250 and z < 300:\n",
    "    print (\"Grade A\");\n",
    "if z > 200 and z < 250:\n",
    "    print (\"grade B\");\n",
    "else:\n",
    "    print(\"sorry u are fail\"); "
   ]
  },
  {
   "cell_type": "code",
   "execution_count": null,
   "id": "135eb185",
   "metadata": {},
   "outputs": [],
   "source": []
  }
 ],
 "metadata": {
  "kernelspec": {
   "display_name": "Python 3",
   "language": "python",
   "name": "python3"
  },
  "language_info": {
   "codemirror_mode": {
    "name": "ipython",
    "version": 3
   },
   "file_extension": ".py",
   "mimetype": "text/x-python",
   "name": "python",
   "nbconvert_exporter": "python",
   "pygments_lexer": "ipython3",
   "version": "3.8.8"
  }
 },
 "nbformat": 4,
 "nbformat_minor": 5
}
