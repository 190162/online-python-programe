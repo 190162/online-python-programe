{
 "cells": [
  {
   "cell_type": "code",
   "execution_count": 2,
   "id": "29539f49",
   "metadata": {},
   "outputs": [
    {
     "name": "stdout",
     "output_type": "stream",
     "text": [
      "['lion', 12, True, 5.67]\n"
     ]
    }
   ],
   "source": []
  },
  {
   "cell_type": "code",
   "execution_count": 3,
   "id": "6e646d4c",
   "metadata": {},
   "outputs": [
    {
     "data": {
      "text/plain": [
       "['lion', 12, True, 5.67]"
      ]
     },
     "execution_count": 3,
     "metadata": {},
     "output_type": "execute_result"
    }
   ],
   "source": [
    "arr"
   ]
  },
  {
   "cell_type": "code",
   "execution_count": 4,
   "id": "5ab01353",
   "metadata": {},
   "outputs": [
    {
     "name": "stdout",
     "output_type": "stream",
     "text": [
      "['lion', 12, True, 5.67, 'lion', 12, True, 5.67]\n"
     ]
    }
   ],
   "source": [
    "newlist = arr + arr\n",
    "print (newlist)"
   ]
  },
  {
   "cell_type": "code",
   "execution_count": 6,
   "id": "db464a8c",
   "metadata": {},
   "outputs": [
    {
     "name": "stdout",
     "output_type": "stream",
     "text": [
      "None\n"
     ]
    }
   ],
   "source": [
    "arr = arr.insert(3,\"bilal\")\n",
    "print (arr)"
   ]
  },
  {
   "cell_type": "code",
   "execution_count": 8,
   "id": "79d858ac",
   "metadata": {},
   "outputs": [
    {
     "name": "stdout",
     "output_type": "stream",
     "text": [
      "None\n"
     ]
    }
   ],
   "source": [
    "print(arr)"
   ]
  },
  {
   "cell_type": "code",
   "execution_count": 9,
   "id": "cd85892b",
   "metadata": {},
   "outputs": [
    {
     "name": "stdout",
     "output_type": "stream",
     "text": [
      "['lion', 12, True, 5.67]\n"
     ]
    }
   ],
   "source": [
    "arr = [\"lion\", 12, True, 5.67]\n",
    "print(arr)"
   ]
  },
  {
   "cell_type": "code",
   "execution_count": 10,
   "id": "9090142e",
   "metadata": {},
   "outputs": [
    {
     "name": "stdout",
     "output_type": "stream",
     "text": [
      "['lion', 12, 'tariq', True, 5.67]\n"
     ]
    }
   ],
   "source": [
    "arr.insert(2,\"tariq\")\n",
    "print(arr)"
   ]
  },
  {
   "cell_type": "code",
   "execution_count": 12,
   "id": "27486f01",
   "metadata": {},
   "outputs": [
    {
     "name": "stdout",
     "output_type": "stream",
     "text": [
      "['tariq', True]\n"
     ]
    }
   ],
   "source": [
    "arr2 = arr[2:4]\n",
    "print(arr2)"
   ]
  },
  {
   "cell_type": "code",
   "execution_count": 13,
   "id": "098e4955",
   "metadata": {},
   "outputs": [
    {
     "data": {
      "text/plain": [
       "['lion', 12, 'tariq', True, 5.67]"
      ]
     },
     "execution_count": 13,
     "metadata": {},
     "output_type": "execute_result"
    }
   ],
   "source": [
    "arr"
   ]
  },
  {
   "cell_type": "code",
   "execution_count": 14,
   "id": "7ba886cf",
   "metadata": {},
   "outputs": [
    {
     "name": "stdout",
     "output_type": "stream",
     "text": [
      "['tariq', True, 5.67]\n"
     ]
    }
   ],
   "source": [
    "arr2 = arr[2:5]\n",
    "print(arr2)"
   ]
  },
  {
   "cell_type": "code",
   "execution_count": 16,
   "id": "0ad93490",
   "metadata": {},
   "outputs": [
    {
     "name": "stdout",
     "output_type": "stream",
     "text": [
      "['lion', 12, 'tariq', True]\n"
     ]
    }
   ],
   "source": [
    "arr2 = arr[:4]\n",
    "print(arr2)"
   ]
  },
  {
   "cell_type": "code",
   "execution_count": 17,
   "id": "b8b110c9",
   "metadata": {},
   "outputs": [
    {
     "name": "stdout",
     "output_type": "stream",
     "text": [
      "['lion', 12, 'tariq', 5.67]\n"
     ]
    }
   ],
   "source": [
    "del arr[3]\n",
    "print(arr)"
   ]
  },
  {
   "cell_type": "code",
   "execution_count": 22,
   "id": "543ed605",
   "metadata": {},
   "outputs": [
    {
     "ename": "ValueError",
     "evalue": "list.remove(x): x not in list",
     "output_type": "error",
     "traceback": [
      "\u001b[1;31m---------------------------------------------------------------------------\u001b[0m",
      "\u001b[1;31mValueError\u001b[0m                                Traceback (most recent call last)",
      "\u001b[1;32m<ipython-input-22-4409343881a7>\u001b[0m in \u001b[0;36m<module>\u001b[1;34m\u001b[0m\n\u001b[1;32m----> 1\u001b[1;33m \u001b[0marr\u001b[0m\u001b[1;33m.\u001b[0m\u001b[0mremove\u001b[0m\u001b[1;33m(\u001b[0m\u001b[1;36m2\u001b[0m\u001b[1;33m)\u001b[0m\u001b[1;33m;\u001b[0m\u001b[1;33m\u001b[0m\u001b[1;33m\u001b[0m\u001b[0m\n\u001b[0m\u001b[0;32m      2\u001b[0m \u001b[0mprint\u001b[0m\u001b[1;33m(\u001b[0m\u001b[0marr\u001b[0m\u001b[1;33m)\u001b[0m\u001b[1;33m;\u001b[0m\u001b[1;33m\u001b[0m\u001b[1;33m\u001b[0m\u001b[0m\n",
      "\u001b[1;31mValueError\u001b[0m: list.remove(x): x not in list"
     ]
    }
   ],
   "source": [
    "arr.remove(2);\n",
    "print(arr);"
   ]
  },
  {
   "cell_type": "raw",
   "id": "83d9dcb8",
   "metadata": {},
   "source": [
    "arr.pop()\n",
    "print(arr;)"
   ]
  },
  {
   "cell_type": "code",
   "execution_count": 24,
   "id": "4cb2b8df",
   "metadata": {},
   "outputs": [
    {
     "name": "stdout",
     "output_type": "stream",
     "text": [
      "['lion', 12, 'tariq']\n"
     ]
    }
   ],
   "source": [
    "arr.pop()\n",
    "print(arr);"
   ]
  },
  {
   "cell_type": "code",
   "execution_count": 25,
   "id": "0d31dcbd",
   "metadata": {},
   "outputs": [
    {
     "data": {
      "text/plain": [
       "['lion', 12, 'tariq']"
      ]
     },
     "execution_count": 25,
     "metadata": {},
     "output_type": "execute_result"
    }
   ],
   "source": [
    "arr\n"
   ]
  },
  {
   "cell_type": "code",
   "execution_count": 31,
   "id": "8410a8b5",
   "metadata": {},
   "outputs": [
    {
     "ename": "TypeError",
     "evalue": "list indices must be integers or slices, not tuple",
     "output_type": "error",
     "traceback": [
      "\u001b[1;31m---------------------------------------------------------------------------\u001b[0m",
      "\u001b[1;31mTypeError\u001b[0m                                 Traceback (most recent call last)",
      "\u001b[1;32m<ipython-input-31-979a21935e73>\u001b[0m in \u001b[0;36m<module>\u001b[1;34m\u001b[0m\n\u001b[1;32m----> 1\u001b[1;33m \u001b[0marr\u001b[0m\u001b[1;33m[\u001b[0m\u001b[1;36m4\u001b[0m\u001b[1;33m,\u001b[0m \u001b[1;36m7\u001b[0m\u001b[1;33m,\u001b[0m \u001b[1;36m5\u001b[0m\u001b[1;33m,\u001b[0m \u001b[1;36m2\u001b[0m\u001b[1;33m,\u001b[0m \u001b[1;36m2\u001b[0m\u001b[1;33m]\u001b[0m\u001b[1;33m\u001b[0m\u001b[1;33m\u001b[0m\u001b[0m\n\u001b[0m\u001b[0;32m      2\u001b[0m \u001b[0mprint\u001b[0m \u001b[1;33m(\u001b[0m\u001b[0marr\u001b[0m\u001b[1;33m)\u001b[0m\u001b[1;33m\u001b[0m\u001b[1;33m\u001b[0m\u001b[0m\n",
      "\u001b[1;31mTypeError\u001b[0m: list indices must be integers or slices, not tuple"
     ]
    }
   ],
   "source": [
    "arr \n",
    "print (arr)"
   ]
  },
  {
   "cell_type": "code",
   "execution_count": 34,
   "id": "6cd5edb3",
   "metadata": {},
   "outputs": [
    {
     "name": "stdout",
     "output_type": "stream",
     "text": [
      "['bashir', 'nazir', 'tariq', 'haneef', 'aziz', 'saqib']\n"
     ]
    }
   ],
   "source": [
    "\n",
    "khawas = [\"bashir\", \"nazir\", \"tariq\", \"haneef\", \"aziz\", \"saqib\"]\n",
    "print(khawas);"
   ]
  },
  {
   "cell_type": "code",
   "execution_count": 36,
   "id": "5f6552fc",
   "metadata": {},
   "outputs": [
    {
     "name": "stdout",
     "output_type": "stream",
     "text": [
      "['bashir', 'nazir', 'tariq', 'aziz', 'saqib', 'bilal']\n"
     ]
    }
   ],
   "source": [
    "khawas.append(\"bilal\")\n",
    "print(khawas)\n"
   ]
  },
  {
   "cell_type": "code",
   "execution_count": 37,
   "id": "0eda7250",
   "metadata": {},
   "outputs": [
    {
     "name": "stdout",
     "output_type": "stream",
     "text": [
      "['bashir', 'nazir', 'tariq', 'haneef', 'aziz', 'saqib']\n"
     ]
    }
   ],
   "source": [
    "\n",
    "khawas = [\"bashir\", \"nazir\", \"tariq\", \"haneef\", \"aziz\", \"saqib\"]\n",
    "print(khawas);"
   ]
  },
  {
   "cell_type": "code",
   "execution_count": 38,
   "id": "91643ab0",
   "metadata": {},
   "outputs": [
    {
     "name": "stdout",
     "output_type": "stream",
     "text": [
      "['bashir', 'nazir', 'tariq', 'haneef', 'aziz', 'saqib', 'ismail']\n"
     ]
    }
   ],
   "source": [
    "khawas.append(\"ismail\")\n",
    "print(khawas)"
   ]
  },
  {
   "cell_type": "code",
   "execution_count": 45,
   "id": "78e3f40b",
   "metadata": {},
   "outputs": [
    {
     "name": "stdout",
     "output_type": "stream",
     "text": [
      "['bashir', 'nazir', 'tariq', 'ibrahim', 'haneef', 'aziz', 'saqib', 'ismail', 'ibrahim']\n"
     ]
    }
   ],
   "source": [
    "khawas.append (\"ibrahim\")\n",
    "print(khawas);\n",
    "khawas."
   ]
  },
  {
   "cell_type": "code",
   "execution_count": null,
   "id": "bf1a1380",
   "metadata": {},
   "outputs": [],
   "source": []
  }
 ],
 "metadata": {
  "kernelspec": {
   "display_name": "Python 3",
   "language": "python",
   "name": "python3"
  },
  "language_info": {
   "codemirror_mode": {
    "name": "ipython",
    "version": 3
   },
   "file_extension": ".py",
   "mimetype": "text/x-python",
   "name": "python",
   "nbconvert_exporter": "python",
   "pygments_lexer": "ipython3",
   "version": "3.8.8"
  }
 },
 "nbformat": 4,
 "nbformat_minor": 5
}
